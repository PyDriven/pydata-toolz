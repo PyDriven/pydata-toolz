{
 "cells": [
  {
   "cell_type": "markdown",
   "metadata": {},
   "source": [
    "# Composition\n",
    "\n",
    "一套好的工具\n",
    "\n",
    "* 包含简单用途的项目。 例如锤子或扳手\n",
    "* 可以一起用于复杂的任务。 例如，我们可以用锤子打一个扳手，松开一个紧的螺母\n",
    "\n",
    "我们称之为“一起使用”的组合\n"
   ]
  },
  {
   "cell_type": "code",
   "execution_count": 1,
   "metadata": {},
   "outputs": [],
   "source": [
    "# We reuse the following binary operators from last time\n",
    "def add(x, y):\n",
    "    return x + y\n",
    "\n",
    "def mul(x, y):\n",
    "    return x * y\n",
    "\n",
    "def lesser(x, y):\n",
    "    if x < y:\n",
    "        return x\n",
    "    else:\n",
    "        return y\n",
    "\n",
    "def greater(x, y):\n",
    "    if x > y:\n",
    "        return x\n",
    "    else:\n",
    "        return y"
   ]
  },
  {
   "cell_type": "code",
   "execution_count": 3,
   "metadata": {},
   "outputs": [],
   "source": [
    "# Also consider the following higher order functions\n",
    "map\n",
    "from functools import reduce\n",
    "from toolz import accumulate"
   ]
  },
  {
   "cell_type": "markdown",
   "metadata": {},
   "source": [
    "在本节中，我们将组成具有更高阶函数的二元运算符。\n",
    "\n",
    "首先我们需要介绍一下`accumulate`，reduce的兄弟函数，以及`map`的多重参数行为。 我们将从`accumulate`开始。\n"
   ]
  },
  {
   "cell_type": "code",
   "execution_count": 9,
   "metadata": {},
   "outputs": [
    {
     "name": "stdout",
     "output_type": "stream",
     "text": [
      "[ 0  1  2  3  4  5  6  7  8  9 10 11 12 13 14 15 16 17 18 19]\n"
     ]
    },
    {
     "data": {
      "text/plain": [
       "array([ 10,  21,  33,  46,  60,  75,  91, 108, 126, 145], dtype=int32)"
      ]
     },
     "execution_count": 9,
     "metadata": {},
     "output_type": "execute_result"
    }
   ],
   "source": [
    "# When showing off numpy we used the cumulative sum method\n",
    "\n",
    "import numpy as np\n",
    "X = np.arange(20)\n",
    "print(X)\n",
    "\n",
    "X[X>=10].cumsum()"
   ]
  },
  {
   "cell_type": "code",
   "execution_count": 10,
   "metadata": {},
   "outputs": [
    {
     "data": {
      "text/plain": [
       "[10, 21, 33, 46, 60, 75, 91, 108, 126, 145]"
      ]
     },
     "execution_count": 10,
     "metadata": {},
     "output_type": "execute_result"
    }
   ],
   "source": [
    "# Accumulate is a general version of this\n",
    "\n",
    "data = range(10, 20)\n",
    "\n",
    "list(accumulate(add, data))"
   ]
  },
  {
   "cell_type": "markdown",
   "metadata": {},
   "source": [
    "理想情况下，这些工具一起涵盖大部分相关任务"
   ]
  },
  {
   "cell_type": "code",
   "execution_count": 11,
   "metadata": {},
   "outputs": [
    {
     "data": {
      "text/plain": [
       "array([       10,       110,      1320,     17160,    240240,   3603600,\n",
       "        57657600, 980179200, 463356416, 213837312], dtype=int32)"
      ]
     },
     "execution_count": 11,
     "metadata": {},
     "output_type": "execute_result"
    }
   ],
   "source": [
    "X[X>=10].cumprod()"
   ]
  },
  {
   "cell_type": "code",
   "execution_count": 14,
   "metadata": {},
   "outputs": [
    {
     "name": "stdout",
     "output_type": "stream",
     "text": [
      "[10, 11, 12, 13, 14, 15, 16, 17, 18, 19]\n"
     ]
    },
    {
     "data": {
      "text/plain": [
       "[10,\n",
       " 110,\n",
       " 1320,\n",
       " 17160,\n",
       " 240240,\n",
       " 3603600,\n",
       " 57657600,\n",
       " 980179200,\n",
       " 17643225600,\n",
       " 335221286400]"
      ]
     },
     "execution_count": 14,
     "metadata": {},
     "output_type": "execute_result"
    }
   ],
   "source": [
    "print(list(data))\n",
    "list(accumulate(mul, data))"
   ]
  },
  {
   "cell_type": "markdown",
   "metadata": {},
   "source": [
    "## 有效工具和钻头\n",
    "\n",
    "考虑通常被称为电钻的设备。 这个装置本身是无用的，只是旋转一个空的插座。 更准确地说，这是一个“动力微调”或“自动扭矩”\n",
    "\n",
    "结合几个比特之一，但自动torquer承担各种角色。\n",
    "\n",
    "此外，这些相同的钻头可以用在其他扭力扳手上，如套筒扳手或棘轮螺丝刀。\n",
    "\n",
    "toolz就是一组相对紧凑的工具集，从中可以获得各种各样的解决方案。\n"
   ]
  },
  {
   "cell_type": "markdown",
   "metadata": {},
   "source": [
    "我们还需要展示map如何在二元运算符上运行。"
   ]
  },
  {
   "cell_type": "markdown",
   "metadata": {},
   "source": [
    "### Power functions\n",
    "\n",
    "我们已经看到了三种类似的功能，比如电钻，map，reduce和accumulate。 他们每个人都可以使用二元运算符。\n"
   ]
  },
  {
   "cell_type": "code",
   "execution_count": 16,
   "metadata": {},
   "outputs": [
    {
     "data": {
      "text/plain": [
       "[11, 22, 33, 44, 55]"
      ]
     },
     "execution_count": 16,
     "metadata": {},
     "output_type": "execute_result"
    }
   ],
   "source": [
    "data1 = [1, 2, 3, 4, 5]\n",
    "data2 = [10, 20, 30, 40, 50]\n",
    "list(map(add, data1, data2))"
   ]
  },
  {
   "cell_type": "code",
   "execution_count": 17,
   "metadata": {},
   "outputs": [
    {
     "data": {
      "text/plain": [
       "2"
      ]
     },
     "execution_count": 17,
     "metadata": {},
     "output_type": "execute_result"
    }
   ],
   "source": [
    "reduce(lesser, [5, 3, 2, 7, 3], 999999999)"
   ]
  },
  {
   "cell_type": "code",
   "execution_count": 18,
   "metadata": {},
   "outputs": [
    {
     "data": {
      "text/plain": [
       "[5, 3, 2, 2, 2]"
      ]
     },
     "execution_count": 18,
     "metadata": {},
     "output_type": "execute_result"
    }
   ],
   "source": [
    "list(accumulate(lesser, [5, 3, 2, 7, 3]))"
   ]
  },
  {
   "cell_type": "code",
   "execution_count": 20,
   "metadata": {},
   "outputs": [
    {
     "data": {
      "text/plain": [
       "[1, 3, 2, 6, 3]"
      ]
     },
     "execution_count": 20,
     "metadata": {},
     "output_type": "execute_result"
    }
   ],
   "source": [
    "list(map(lesser, [5, 3, 2, 7, 3], [1, 9, 2, 6, 6]))  # Pairwise lesser across the two lists"
   ]
  },
  {
   "cell_type": "markdown",
   "metadata": {},
   "source": [
    "所以现在我们有四个二元运算符\n",
    "\n",
    "    add, mul, lesser, greater\n",
    "    \n",
    "还有三个可以利用二元运算符的高阶函数\n",
    "\n",
    "    map, reduce, accumulate\n",
    "    \n",
    "而且我们可以有意义地把它们中的任何一对合并"
   ]
  },
  {
   "cell_type": "markdown",
   "metadata": {},
   "source": [
    "## Exercise\n",
    "\n",
    "创建一个新的二元运算符`longer`，它返回两个元素中较长的一个\n"
   ]
  },
  {
   "cell_type": "code",
   "execution_count": 11,
   "metadata": {},
   "outputs": [
    {
     "ename": "SyntaxError",
     "evalue": "invalid syntax (<ipython-input-11-663766df1d5d>, line 2)",
     "output_type": "error",
     "traceback": [
      "\u001b[1;36m  File \u001b[1;32m\"<ipython-input-11-663766df1d5d>\"\u001b[1;36m, line \u001b[1;32m2\u001b[0m\n\u001b[1;33m    ...\u001b[0m\n\u001b[1;37m    ^\u001b[0m\n\u001b[1;31mSyntaxError\u001b[0m\u001b[1;31m:\u001b[0m invalid syntax\n"
     ]
    }
   ],
   "source": [
    "def longer(a, b):\n",
    "    ...\n",
    "    \n",
    "assert longer('cat', 'mouse') == 'mouse'  # because cat is of length 3 and mouse is of length 5"
   ]
  },
  {
   "cell_type": "markdown",
   "metadata": {},
   "source": [
    "使用这个二元运算符与`reduce`，`accumulate`和`map`一起计算以下内容\n",
    "\n",
    "最长的单词:\n",
    "\n",
    "longest word, the longest word over time, and the longest between pairs"
   ]
  },
  {
   "cell_type": "code",
   "execution_count": 12,
   "metadata": {
    "collapsed": true
   },
   "outputs": [],
   "source": [
    "# Use reduce to find the longest word\n",
    "\n",
    "animals = ['cat', 'mouse', 'lion', 'goose', 'giraffe', 'mule']"
   ]
  },
  {
   "cell_type": "code",
   "execution_count": 13,
   "metadata": {
    "collapsed": true
   },
   "outputs": [],
   "source": [
    "# Use accumulate to track the longest word over time.\n",
    "# This should be a list where the first element is 'cat', the last is 'giraffe', \n",
    "# and each intermediate element is the longest word up to that point\n"
   ]
  },
  {
   "cell_type": "code",
   "execution_count": 14,
   "metadata": {
    "collapsed": true
   },
   "outputs": [],
   "source": [
    "# Use map to create a list of the pairwise longest among the following two lists\n",
    "animals = ['cat', 'mouse', 'lion', 'goose', 'giraffe', 'mule']\n",
    "fruits  = ['apple', 'orange', 'banana', 'date', 'grape', 'strawberry']\n",
    "\n"
   ]
  },
  {
   "cell_type": "markdown",
   "metadata": {},
   "source": [
    "## Recap\n",
    "\n",
    "功能标准库涵盖了各种各样的具有少量功能的应用程序。 它通过精心设计的高阶功能来达到这个目的。 通过设计，这些功能是高度可组合的，也就是说，它们可以一起使用。\n",
    "\n",
    "这种构成原则扩展了这个特定的设计。\n",
    "\n"
   ]
  },
  {
   "cell_type": "code",
   "execution_count": null,
   "metadata": {
    "collapsed": true
   },
   "outputs": [],
   "source": []
  }
 ],
 "metadata": {
  "kernelspec": {
   "display_name": "Python 3",
   "language": "python",
   "name": "python3"
  },
  "language_info": {
   "codemirror_mode": {
    "name": "ipython",
    "version": 3
   },
   "file_extension": ".py",
   "mimetype": "text/x-python",
   "name": "python",
   "nbconvert_exporter": "python",
   "pygments_lexer": "ipython3",
   "version": "3.6.3"
  }
 },
 "nbformat": 4,
 "nbformat_minor": 1
}
