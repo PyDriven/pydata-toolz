{
 "cells": [
  {
   "cell_type": "markdown",
   "metadata": {},
   "source": [
    "# 斐波纳契内存使用\n",
    "\n",
    "我们讨论 *what* 与*how* 编程和解决性能 *memoization* 的缺陷。\n",
    "\n",
    "我们使用经典的斐波那契数列作为最初的例子\n",
    "\n",
    "     0,1,1,2,3,5,8,13,21,34,55 ...\n",
    "    \n",
    "我们现在完成一个使用 memoization 的例子，以尽量减少重复的Web请求"
   ]
  },
  {
   "cell_type": "markdown",
   "metadata": {},
   "source": [
    "## Fib\n",
    "\n",
    "斐波那契数列通常递归地定义如下\n",
    "\n",
    "              /            0              if i is 0\n",
    "    fib(i) =  |            1              if i is 1\n",
    "              \\ fib(i - 1) + fib(i - 2)   otherwise\n",
    "\n",
    "因为Python支持递归，我们可以把这个数学定义干净地转换成代码。"
   ]
  },
  {
   "cell_type": "code",
   "execution_count": 1,
   "metadata": {},
   "outputs": [
    {
     "data": {
      "text/plain": [
       "<map at 0x4e9ebe0>"
      ]
     },
     "execution_count": 1,
     "metadata": {},
     "output_type": "execute_result"
    }
   ],
   "source": [
    "def fib_what(i):\n",
    "    if i == 0:\n",
    "        return 0\n",
    "    elif i == 1:\n",
    "        return 1\n",
    "    else:\n",
    "        return fib_what(i -1) + fib_what(i - 2)\n",
    "\n",
    "map(fib_what, range(11))"
   ]
  },
  {
   "cell_type": "markdown",
   "metadata": {},
   "source": [
    "用来计算第i个斐波那契数的常见算法是保持一对数字的运算，将它们相加得到下一个数字\n",
    "\n",
    "A common *algorithm* for *how* to compute the $i^{th}$ Fibonacci number efficiently is to keep a running pair of numbers, summing them together to obtain the next"
   ]
  },
  {
   "cell_type": "code",
   "execution_count": 2,
   "metadata": {},
   "outputs": [
    {
     "data": {
      "text/plain": [
       "<map at 0x4ea4a90>"
      ]
     },
     "execution_count": 2,
     "metadata": {},
     "output_type": "execute_result"
    }
   ],
   "source": [
    "def fib_how(i):\n",
    "    a, b = 0, 1\n",
    "    for _ in range(i):\n",
    "        a, b = b, a + b\n",
    "    return a\n",
    "\n",
    "\n",
    "map(fib_how, range(11))"
   ]
  },
  {
   "cell_type": "markdown",
   "metadata": {},
   "source": [
    "\n",
    "这两个实现在两个方面有所不同。\n",
    "\n",
    "**Style: What v. How**：\n",
    "\n",
    "* 第一个函数类似于一个数学定义，定义*什么*将被计算，而没有明确指定* how *。 这个算法的实现取决于Python运行时如何处理递归调用。\n",
    "\n",
    "* 第二个函数提供了* how *来计算答案的清晰配方; 但是从函数定义中不能立即明白什么是被计算的。\n",
    "\n",
    "*what* 的解决方案往往比 *how* 的实现概念上更清晰。\n",
    "\n",
    "**性能**\n",
    "\n",
    "不幸的是，*what* 的解是非常的缓慢。 这是常见的 *what* 代码。\n",
    "\n",
    "These two implementations differ in two ways.  \n",
    "\n",
    "**Style: What v. How**:  \n",
    "\n",
    "*   The first function is similar to a mathematical definition, defining *what* is to be computed without clearly specifying about *how*.  The implementation of this algorithm depends on how the Python runtime handles recursive calls.\n",
    "\n",
    "*   The second function provides a clear recipe for *how* to compute the answer; it is not immediately clear from the function definition *what* is being computed however.\n",
    "\n",
    "*What* solutions tend to be more conceptually clear than *how* solutions.  \n",
    "\n",
    "**Performance**\n",
    "\n",
    "Unfortunately the *what* solution is painfully slow.  This is common with *what* code."
   ]
  },
  {
   "cell_type": "code",
   "execution_count": 3,
   "metadata": {},
   "outputs": [
    {
     "name": "stdout",
     "output_type": "stream",
     "text": [
      "6.23 s ± 238 ms per loop (mean ± std. dev. of 7 runs, 1 loop each)\n"
     ]
    }
   ],
   "source": [
    "%timeit fib_what(35)"
   ]
  },
  {
   "cell_type": "code",
   "execution_count": 4,
   "metadata": {},
   "outputs": [
    {
     "name": "stdout",
     "output_type": "stream",
     "text": [
      "3.45 µs ± 170 ns per loop (mean ± std. dev. of 7 runs, 100000 loops each)\n"
     ]
    }
   ],
   "source": [
    "%timeit fib_how(35)"
   ]
  },
  {
   "cell_type": "markdown",
   "metadata": {},
   "source": [
    "注意单位。 什么解决方案比这个输入慢两百万倍。 它只会变得更糟。\n",
    "\n",
    "*what* 的解决方案比 *how* 的解决方案需要更多的时间。 这是因为它一次又一次地重复调用相同值的“fib”。\n",
    "\n",
    "示例:\n",
    "\n",
    "*   `fib(5)` calls `fib(4)` and `fib(3)`\n",
    "*   `fib(4)` calls `fib(3)` and `fib(2)`\n",
    "*   `fib(3)` calls `fib(2)` and `fib(1)`\n",
    "*   The second `fib(3)` also calls `fib(2)` and `fib(1)`\n",
    "*   All three `fib(2)`s call `fib(1)` and `fib(0)`\n",
    "*   We now have five redundant calls to `fib(1)`. \n",
    "\n",
    "对于像`5`这样的简单输入，性能上来说有些滑稽。 对于大的输入值，它迅速变成悲剧。\n"
   ]
  },
  {
   "cell_type": "markdown",
   "metadata": {},
   "source": [
    "## Caching\n",
    "\n",
    "通过缓存中间值可以保存 *what* 解决方案。"
   ]
  },
  {
   "cell_type": "code",
   "execution_count": 5,
   "metadata": {},
   "outputs": [
    {
     "name": "stdout",
     "output_type": "stream",
     "text": [
      "25 µs ± 935 ns per loop (mean ± std. dev. of 7 runs, 10000 loops each)\n"
     ]
    }
   ],
   "source": [
    "cache = dict()\n",
    "\n",
    "def fib(i):\n",
    "    if i in cache:                # Have we seen this input before?\n",
    "        return cache[i]           # if so then return the cached result\n",
    "    \n",
    "    if i == 0:\n",
    "        return 0\n",
    "    if i == 1:\n",
    "        return 1\n",
    "    else:\n",
    "        result = fib(i -1) + fib(i - 2)\n",
    "        cache[i] = result         # Remember that fib(i) == result\n",
    "        return result\n",
    "\n",
    "%timeit cache.clear(); fib(35)"
   ]
  },
  {
   "cell_type": "markdown",
   "metadata": {},
   "source": [
    "通过将结果缓存计算的函数中，我们减少了计算时间，但增加了内存使用量。这通常是一个有用空间换时间技术解决方案。\n"
   ]
  },
  {
   "cell_type": "markdown",
   "metadata": {},
   "source": [
    "## Memoization\n",
    "\n",
    "从历史上看，相对比 *how* 函数式语言更有利于实现 *what*。\n",
    "\n",
    "考虑我们熟悉的 `map`。 `map`函数定义*在完全隐藏的时候*应该做什么*如何完成。 我们可以用各种有趣的方式自由地实现“地图”。 功能抽象将计算机控制从程序员手中带走，并将其交付给语言和基础设施设计人员。\n",
    "\n",
    "因为函数式语言有利于他们经常遇到的问题，比如我们在斐波纳契范例中看到的重复计算。 而不是明确地缓存我们所做的每一个功能，我们把缓存变成一个更高阶的函数。\n",
    "\n",
    "这个函数被称为“memoize”。\n",
    "\n"
   ]
  },
  {
   "cell_type": "code",
   "execution_count": 6,
   "metadata": {},
   "outputs": [
    {
     "name": "stdout",
     "output_type": "stream",
     "text": [
      "82.7 µs ± 9.08 µs per loop (mean ± std. dev. of 7 runs, 10000 loops each)\n"
     ]
    }
   ],
   "source": [
    "from toolz import memoize\n",
    "\n",
    "def fib(i):\n",
    "    if i == 0:\n",
    "        return 0\n",
    "    elif i == 1:\n",
    "        return 1\n",
    "    else:\n",
    "        return fib(i -1) + fib(i - 2)\n",
    "\n",
    "cache = dict()\n",
    "fib = memoize(fib, cache)\n",
    "\n",
    "%timeit cache.clear(); fib(35)"
   ]
  },
  {
   "cell_type": "markdown",
   "metadata": {},
   "source": [
    "在上面的例子中，我们明确地创建了一个缓存，以便在每个时间点之前清除它。 通常我们只需要像这样使用一个参数来调用memoize\n",
    "\n",
    "    fib = memoize(fib)\n",
    "    \n",
    "并自动生成缓存字典。\n",
    "\n",
    "或者，你可能更喜欢使用Python装饰器语法\n",
    "\n",
    "```\n",
    "@memoize\n",
    "def fib(i):\n",
    "    if i == 0:\n",
    "        return 0\n",
    "    if i == 1:\n",
    "        return 1\n",
    "    else:\n",
    "        return fib(i -1) + fib(i - 2)\n",
    "```\n",
    "\n",
    "这两个都是相同的。\n",
    "\n",
    "Memoization提供了一个纯粹的 *how* 优化，以便我们可以继续无耻地写数学清晰 *what* 代码。\n",
    "\n"
   ]
  },
  {
   "cell_type": "markdown",
   "metadata": {},
   "source": [
    "## 使用Memoization避免显式状态\n",
    "\n",
    "斐波纳契的例子是一个典型的memoization用例。 可悲的是，我们很少要求在现实生活中计算斐波纳契数。\n",
    "\n",
    "在这里，我们玩一个更现实的例子。 我们想按照他们内容中不同单词的数量对一组网页进行排序。\n",
    "\n"
   ]
  },
  {
   "cell_type": "code",
   "execution_count": 7,
   "metadata": {},
   "outputs": [],
   "source": [
    "# We'll use the Wikipedia articles for the fifty United States\n",
    "\n",
    "with open('data/states.txt') as f:\n",
    "    urls = ['http://en.wikipedia.org/wiki/' + state for state in f.read().strip().split()]"
   ]
  },
  {
   "cell_type": "markdown",
   "metadata": {},
   "source": [
    "### Exercise\n",
    "\n",
    "我们的任务是通过网站文本中出现的不同词汇的数量对这些网址进行排序。 我们将通过`urllib`中`sorted`函数的关键字`cmp`和`urlopen`来做到这一点。\n",
    "\n",
    "我们将通过一个明确缓存性能结果的实现。 您将通过适当地添加“memoize”来简化这个实现。\n"
   ]
  },
  {
   "cell_type": "code",
   "execution_count": 8,
   "metadata": {},
   "outputs": [
    {
     "ename": "ModuleNotFoundError",
     "evalue": "No module named 'urllib2'",
     "output_type": "error",
     "traceback": [
      "\u001b[1;31m---------------------------------------------------------------------------\u001b[0m",
      "\u001b[1;31mModuleNotFoundError\u001b[0m                       Traceback (most recent call last)",
      "\u001b[1;32m<ipython-input-8-6d03cf1d5d05>\u001b[0m in \u001b[0;36m<module>\u001b[1;34m()\u001b[0m\n\u001b[0;32m      3\u001b[0m \u001b[1;31m# We can get the raw HTML from a URL with `urlopen`\u001b[0m\u001b[1;33m\u001b[0m\u001b[1;33m\u001b[0m\u001b[0m\n\u001b[0;32m      4\u001b[0m \u001b[1;31m# Depending on your internet connection this might take a little while\u001b[0m\u001b[1;33m\u001b[0m\u001b[1;33m\u001b[0m\u001b[0m\n\u001b[1;32m----> 5\u001b[1;33m \u001b[1;32mimport\u001b[0m \u001b[0murllib2\u001b[0m\u001b[1;33m\u001b[0m\u001b[0m\n\u001b[0m\u001b[0;32m      6\u001b[0m \u001b[0mopener\u001b[0m \u001b[1;33m=\u001b[0m \u001b[0murllib2\u001b[0m\u001b[1;33m.\u001b[0m\u001b[0mbuild_opener\u001b[0m\u001b[1;33m(\u001b[0m\u001b[1;33m)\u001b[0m\u001b[1;33m\u001b[0m\u001b[0m\n\u001b[0;32m      7\u001b[0m \u001b[0mopener\u001b[0m\u001b[1;33m.\u001b[0m\u001b[0maddheaders\u001b[0m \u001b[1;33m=\u001b[0m \u001b[1;33m[\u001b[0m\u001b[1;33m(\u001b[0m\u001b[1;34m'User-agent'\u001b[0m\u001b[1;33m,\u001b[0m \u001b[1;34m'Mozilla/5.0'\u001b[0m\u001b[1;33m)\u001b[0m\u001b[1;33m]\u001b[0m  \u001b[1;31m# Trick Wikipedia into thinking that we're not a robot\u001b[0m\u001b[1;33m\u001b[0m\u001b[0m\n",
      "\u001b[1;31mModuleNotFoundError\u001b[0m: No module named 'urllib2'"
     ]
    }
   ],
   "source": [
    "# Naive Solution\n",
    "\n",
    "# We can get the raw HTML from a URL with `urlopen`\n",
    "# Depending on your internet connection this might take a little while\n",
    "import urllib2\n",
    "opener = urllib2.build_opener()\n",
    "opener.addheaders = [('User-agent', 'Mozilla/5.0')]  # Trick Wikipedia into thinking that we're not a robot\n",
    "urlopen = opener.open\n",
    "\n",
    "\n",
    "def count_distinct_words(url):\n",
    "    \"\"\" Count distinct words of a URL\n",
    "    \n",
    "    >>> count_distinct_words('http://www.example.com')\n",
    "    86\n",
    "    \"\"\"\n",
    "    text = urlopen(url).read()\n",
    "    return len(set(text.split()))\n",
    "\n",
    "            \n",
    "def cmp_url(a, b):\n",
    "    \"\"\" A comparator function for URLs\n",
    "    \n",
    "    >>> cmp_url('http://en.wikipedia.org/', 'http://www.example.org')\n",
    "    1\n",
    "    \"\"\"\n",
    "    return count_distinct_words(a) - count_distinct_words(b)\n",
    "\n",
    "\n",
    "# sorted(urls, cmp=cmp_url)  # We could do this but it would be slow"
   ]
  },
  {
   "cell_type": "code",
   "execution_count": 47,
   "metadata": {},
   "outputs": [
    {
     "ename": "KeyboardInterrupt",
     "evalue": "",
     "output_type": "error",
     "traceback": [
      "\u001b[1;31m---------------------------------------------------------------------------\u001b[0m\n\u001b[1;31mKeyboardInterrupt\u001b[0m                         Traceback (most recent call last)",
      "\u001b[1;32m<ipython-input-47-1b7e62009eaa>\u001b[0m in \u001b[0;36m<module>\u001b[1;34m()\u001b[0m\n\u001b[0;32m      5\u001b[0m \u001b[0mword_counts\u001b[0m \u001b[1;33m=\u001b[0m \u001b[0mdict\u001b[0m\u001b[1;33m(\u001b[0m\u001b[1;33m)\u001b[0m\u001b[1;33m\u001b[0m\u001b[0m\n\u001b[0;32m      6\u001b[0m \u001b[1;32mfor\u001b[0m \u001b[0murl\u001b[0m \u001b[1;32min\u001b[0m \u001b[0murls\u001b[0m\u001b[1;33m:\u001b[0m\u001b[1;33m\u001b[0m\u001b[0m\n\u001b[1;32m----> 7\u001b[1;33m     \u001b[0mword_counts\u001b[0m\u001b[1;33m[\u001b[0m\u001b[0murl\u001b[0m\u001b[1;33m]\u001b[0m \u001b[1;33m=\u001b[0m \u001b[0mcount_distinct_words\u001b[0m\u001b[1;33m(\u001b[0m\u001b[0murl\u001b[0m\u001b[1;33m)\u001b[0m\u001b[1;33m\u001b[0m\u001b[0m\n\u001b[0m\u001b[0;32m      8\u001b[0m \u001b[1;33m\u001b[0m\u001b[0m\n\u001b[0;32m      9\u001b[0m \u001b[1;33m\u001b[0m\u001b[0m\n",
      "\u001b[1;32m<ipython-input-46-375f431f0072>\u001b[0m in \u001b[0;36mcount_distinct_words\u001b[1;34m(url)\u001b[0m\n\u001b[0;32m     13\u001b[0m     \u001b[1;36m86\u001b[0m\u001b[1;33m\u001b[0m\u001b[0m\n\u001b[0;32m     14\u001b[0m     \"\"\"\n\u001b[1;32m---> 15\u001b[1;33m     \u001b[0mtext\u001b[0m \u001b[1;33m=\u001b[0m \u001b[0murlopen\u001b[0m\u001b[1;33m(\u001b[0m\u001b[0murl\u001b[0m\u001b[1;33m)\u001b[0m\u001b[1;33m.\u001b[0m\u001b[0mread\u001b[0m\u001b[1;33m(\u001b[0m\u001b[1;33m)\u001b[0m\u001b[1;33m\u001b[0m\u001b[0m\n\u001b[0m\u001b[0;32m     16\u001b[0m     \u001b[1;32mreturn\u001b[0m \u001b[0mlen\u001b[0m\u001b[1;33m(\u001b[0m\u001b[0mset\u001b[0m\u001b[1;33m(\u001b[0m\u001b[0mtext\u001b[0m\u001b[1;33m.\u001b[0m\u001b[0msplit\u001b[0m\u001b[1;33m(\u001b[0m\u001b[1;33m)\u001b[0m\u001b[1;33m)\u001b[0m\u001b[1;33m)\u001b[0m\u001b[1;33m\u001b[0m\u001b[0m\n\u001b[0;32m     17\u001b[0m \u001b[1;33m\u001b[0m\u001b[0m\n",
      "\u001b[1;32m/home/mrocklin/Software/anaconda/lib/python2.7/socket.pyc\u001b[0m in \u001b[0;36mread\u001b[1;34m(self, size)\u001b[0m\n\u001b[0;32m    349\u001b[0m             \u001b[1;32mwhile\u001b[0m \u001b[0mTrue\u001b[0m\u001b[1;33m:\u001b[0m\u001b[1;33m\u001b[0m\u001b[0m\n\u001b[0;32m    350\u001b[0m                 \u001b[1;32mtry\u001b[0m\u001b[1;33m:\u001b[0m\u001b[1;33m\u001b[0m\u001b[0m\n\u001b[1;32m--> 351\u001b[1;33m                     \u001b[0mdata\u001b[0m \u001b[1;33m=\u001b[0m \u001b[0mself\u001b[0m\u001b[1;33m.\u001b[0m\u001b[0m_sock\u001b[0m\u001b[1;33m.\u001b[0m\u001b[0mrecv\u001b[0m\u001b[1;33m(\u001b[0m\u001b[0mrbufsize\u001b[0m\u001b[1;33m)\u001b[0m\u001b[1;33m\u001b[0m\u001b[0m\n\u001b[0m\u001b[0;32m    352\u001b[0m                 \u001b[1;32mexcept\u001b[0m \u001b[0merror\u001b[0m\u001b[1;33m,\u001b[0m \u001b[0me\u001b[0m\u001b[1;33m:\u001b[0m\u001b[1;33m\u001b[0m\u001b[0m\n\u001b[0;32m    353\u001b[0m                     \u001b[1;32mif\u001b[0m \u001b[0me\u001b[0m\u001b[1;33m.\u001b[0m\u001b[0margs\u001b[0m\u001b[1;33m[\u001b[0m\u001b[1;36m0\u001b[0m\u001b[1;33m]\u001b[0m \u001b[1;33m==\u001b[0m \u001b[0mEINTR\u001b[0m\u001b[1;33m:\u001b[0m\u001b[1;33m\u001b[0m\u001b[0m\n",
      "\u001b[1;32m/home/mrocklin/Software/anaconda/lib/python2.7/httplib.pyc\u001b[0m in \u001b[0;36mread\u001b[1;34m(self, amt)\u001b[0m\n\u001b[0;32m    565\u001b[0m         \u001b[1;31m# connection, and the user is reading more bytes than will be provided\u001b[0m\u001b[1;33m\u001b[0m\u001b[1;33m\u001b[0m\u001b[0m\n\u001b[0;32m    566\u001b[0m         \u001b[1;31m# (for example, reading in 1k chunks)\u001b[0m\u001b[1;33m\u001b[0m\u001b[1;33m\u001b[0m\u001b[0m\n\u001b[1;32m--> 567\u001b[1;33m         \u001b[0ms\u001b[0m \u001b[1;33m=\u001b[0m \u001b[0mself\u001b[0m\u001b[1;33m.\u001b[0m\u001b[0mfp\u001b[0m\u001b[1;33m.\u001b[0m\u001b[0mread\u001b[0m\u001b[1;33m(\u001b[0m\u001b[0mamt\u001b[0m\u001b[1;33m)\u001b[0m\u001b[1;33m\u001b[0m\u001b[0m\n\u001b[0m\u001b[0;32m    568\u001b[0m         \u001b[1;32mif\u001b[0m \u001b[1;32mnot\u001b[0m \u001b[0ms\u001b[0m\u001b[1;33m:\u001b[0m\u001b[1;33m\u001b[0m\u001b[0m\n\u001b[0;32m    569\u001b[0m             \u001b[1;31m# Ideally, we would raise IncompleteRead if the content-length\u001b[0m\u001b[1;33m\u001b[0m\u001b[1;33m\u001b[0m\u001b[0m\n",
      "\u001b[1;32m/home/mrocklin/Software/anaconda/lib/python2.7/socket.pyc\u001b[0m in \u001b[0;36mread\u001b[1;34m(self, size)\u001b[0m\n\u001b[0;32m    378\u001b[0m                 \u001b[1;31m# fragmentation issues on many platforms.\u001b[0m\u001b[1;33m\u001b[0m\u001b[1;33m\u001b[0m\u001b[0m\n\u001b[0;32m    379\u001b[0m                 \u001b[1;32mtry\u001b[0m\u001b[1;33m:\u001b[0m\u001b[1;33m\u001b[0m\u001b[0m\n\u001b[1;32m--> 380\u001b[1;33m                     \u001b[0mdata\u001b[0m \u001b[1;33m=\u001b[0m \u001b[0mself\u001b[0m\u001b[1;33m.\u001b[0m\u001b[0m_sock\u001b[0m\u001b[1;33m.\u001b[0m\u001b[0mrecv\u001b[0m\u001b[1;33m(\u001b[0m\u001b[0mleft\u001b[0m\u001b[1;33m)\u001b[0m\u001b[1;33m\u001b[0m\u001b[0m\n\u001b[0m\u001b[0;32m    381\u001b[0m                 \u001b[1;32mexcept\u001b[0m \u001b[0merror\u001b[0m\u001b[1;33m,\u001b[0m \u001b[0me\u001b[0m\u001b[1;33m:\u001b[0m\u001b[1;33m\u001b[0m\u001b[0m\n\u001b[0;32m    382\u001b[0m                     \u001b[1;32mif\u001b[0m \u001b[0me\u001b[0m\u001b[1;33m.\u001b[0m\u001b[0margs\u001b[0m\u001b[1;33m[\u001b[0m\u001b[1;36m0\u001b[0m\u001b[1;33m]\u001b[0m \u001b[1;33m==\u001b[0m \u001b[0mEINTR\u001b[0m\u001b[1;33m:\u001b[0m\u001b[1;33m\u001b[0m\u001b[0m\n",
      "\u001b[1;31mKeyboardInterrupt\u001b[0m: "
     ]
    }
   ],
   "source": [
    "# Efficient Solution\n",
    "\n",
    "# To increase performance and reduce the extent to which we hammer the Wikipedia servers \n",
    "# we'll precompute all of the counts ahead of time in one pass \n",
    "# and store them in a global dictionary\n",
    "\n",
    "word_counts = dict()\n",
    "for url in urls:\n",
    "    word_counts[url] = count_distinct_words(url)\n",
    "\n",
    "\n",
    "def cmp_url_cached(a, b):\n",
    "    \"\"\" A Cached version of ``cmp_url`` \"\"\"\n",
    "    return cmp(word_counts[a], word_counts[b])\n",
    "          \n",
    "\n",
    "# sorted(urls cmp=cmp_url_cached)"
   ]
  },
  {
   "cell_type": "markdown",
   "metadata": {},
   "source": [
    "### Task\n",
    "\n",
    "你的任务很简单。 在我们原有的解决方案上使用memoization 功能，以达到与高效解决方案相同的性能。"
   ]
  },
  {
   "cell_type": "code",
   "execution_count": null,
   "metadata": {
    "collapsed": true
   },
   "outputs": [],
   "source": []
  },
  {
   "cell_type": "markdown",
   "metadata": {},
   "source": [
    "## End\n",
    "\n",
    "性能建立往往需要建立状态。 Memoization捕获了更高性能代码的常用策略，特别是在避免重复昂贵的操作时。 “memoize”高阶函数将这个功能包装成一个简单的函数调用或装饰器。"
   ]
  },
  {
   "cell_type": "code",
   "execution_count": null,
   "metadata": {
    "collapsed": true
   },
   "outputs": [],
   "source": []
  }
 ],
 "metadata": {
  "kernelspec": {
   "display_name": "Python 3",
   "language": "python",
   "name": "python3"
  },
  "language_info": {
   "codemirror_mode": {
    "name": "ipython",
    "version": 3
   },
   "file_extension": ".py",
   "mimetype": "text/x-python",
   "name": "python",
   "nbconvert_exporter": "python",
   "pygments_lexer": "ipython3",
   "version": "3.6.3"
  }
 },
 "nbformat": 4,
 "nbformat_minor": 1
}
